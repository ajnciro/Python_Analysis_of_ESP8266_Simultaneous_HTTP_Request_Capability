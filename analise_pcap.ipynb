{
 "cells": [
  {
   "cell_type": "markdown",
   "metadata": {},
   "source": [
    "**Importar as Bibliotecas necessárias para análise de dados**"
   ]
  },
  {
   "cell_type": "code",
   "execution_count": 13,
   "metadata": {},
   "outputs": [],
   "source": [
    "import pandas as pd\n",
    "import numpy as np\n",
    "import matplotlib.pyplot as plt"
   ]
  },
  {
   "cell_type": "markdown",
   "metadata": {},
   "source": [
    "**Atribuição de métodos necessários para a manipulação de listas, um que calcula a média móvel e um que encontra um padrão qualquer desejado**"
   ]
  },
  {
   "cell_type": "code",
   "execution_count": 14,
   "metadata": {},
   "outputs": [],
   "source": [
    "class Lista:\n",
    "    \"\"\"Lista de elementos iteráveis\"\"\"\n",
    "    \n",
    "    def __init__(self, l):\n",
    "        self.l = list(l)\n",
    "    \n",
    "    def media_movel(self, pas = 3):\n",
    "        \"\"\"pas é o tamanho dos clusteres em que\n",
    "        a Lista será divida\"\"\"\n",
    "        \n",
    "        temp = []\n",
    "        for ix in range(len(self.l)):\n",
    "            el = self.l[ix:(ix+pas)]\n",
    "            if (len(el)==pas):\n",
    "                temp.append(np.mean(el))\n",
    "\n",
    "        return temp\n",
    "    \n",
    "    def pos (self, pat):\n",
    "        \"\"\"pat é o padrão que se deseja encontrar\"\"\"\n",
    "        \n",
    "        new_lis = []\n",
    "        n = 0\n",
    "        for elem in self.l:\n",
    "            if elem==pat:\n",
    "                new_lis.append(n)\n",
    "            n+=1\n",
    "        return new_lis"
   ]
  },
  {
   "cell_type": "markdown",
   "metadata": {},
   "source": [
    "**Importar para um dataframe o arquivo de dados adquiridos pelo scrpit do cliente de requisições paralelas. A coluna *sim_reqs* representa o númendo de requisições simulâneas em cada passo, *taxa_sucesso* é a razão entre o número de respostas recebidas pela servidor e o número de requisições enviadas, *tempo_decorr* é o tempo gasta para enviar e receber as requisições bem-sucedida. Segue o quadro:**"
   ]
  },
  {
   "cell_type": "code",
   "execution_count": 15,
   "metadata": {},
   "outputs": [
    {
     "data": {
      "text/html": [
       "<div>\n",
       "<style scoped>\n",
       "    .dataframe tbody tr th:only-of-type {\n",
       "        vertical-align: middle;\n",
       "    }\n",
       "\n",
       "    .dataframe tbody tr th {\n",
       "        vertical-align: top;\n",
       "    }\n",
       "\n",
       "    .dataframe thead th {\n",
       "        text-align: right;\n",
       "    }\n",
       "</style>\n",
       "<table border=\"1\" class=\"dataframe\">\n",
       "  <thead>\n",
       "    <tr style=\"text-align: right;\">\n",
       "      <th></th>\n",
       "      <th>sim_reqs</th>\n",
       "      <th>taxa_sucesso</th>\n",
       "      <th>tempo_decorr</th>\n",
       "    </tr>\n",
       "  </thead>\n",
       "  <tbody>\n",
       "    <tr>\n",
       "      <th>0</th>\n",
       "      <td>1</td>\n",
       "      <td>1.00</td>\n",
       "      <td>0.407925</td>\n",
       "    </tr>\n",
       "    <tr>\n",
       "      <th>1</th>\n",
       "      <td>1</td>\n",
       "      <td>1.00</td>\n",
       "      <td>0.124418</td>\n",
       "    </tr>\n",
       "    <tr>\n",
       "      <th>2</th>\n",
       "      <td>1</td>\n",
       "      <td>1.00</td>\n",
       "      <td>0.183790</td>\n",
       "    </tr>\n",
       "    <tr>\n",
       "      <th>3</th>\n",
       "      <td>1</td>\n",
       "      <td>1.00</td>\n",
       "      <td>0.117032</td>\n",
       "    </tr>\n",
       "    <tr>\n",
       "      <th>4</th>\n",
       "      <td>1</td>\n",
       "      <td>1.00</td>\n",
       "      <td>0.182043</td>\n",
       "    </tr>\n",
       "    <tr>\n",
       "      <th>...</th>\n",
       "      <td>...</td>\n",
       "      <td>...</td>\n",
       "      <td>...</td>\n",
       "    </tr>\n",
       "    <tr>\n",
       "      <th>495</th>\n",
       "      <td>100</td>\n",
       "      <td>0.25</td>\n",
       "      <td>21.088424</td>\n",
       "    </tr>\n",
       "    <tr>\n",
       "      <th>496</th>\n",
       "      <td>100</td>\n",
       "      <td>0.26</td>\n",
       "      <td>21.085087</td>\n",
       "    </tr>\n",
       "    <tr>\n",
       "      <th>497</th>\n",
       "      <td>100</td>\n",
       "      <td>0.25</td>\n",
       "      <td>21.092524</td>\n",
       "    </tr>\n",
       "    <tr>\n",
       "      <th>498</th>\n",
       "      <td>100</td>\n",
       "      <td>0.25</td>\n",
       "      <td>21.095177</td>\n",
       "    </tr>\n",
       "    <tr>\n",
       "      <th>499</th>\n",
       "      <td>100</td>\n",
       "      <td>0.25</td>\n",
       "      <td>21.103890</td>\n",
       "    </tr>\n",
       "  </tbody>\n",
       "</table>\n",
       "<p>500 rows × 3 columns</p>\n",
       "</div>"
      ],
      "text/plain": [
       "    sim_reqs  taxa_sucesso  tempo_decorr\n",
       "0          1          1.00      0.407925\n",
       "1          1          1.00      0.124418\n",
       "2          1          1.00      0.183790\n",
       "3          1          1.00      0.117032\n",
       "4          1          1.00      0.182043\n",
       "..       ...           ...           ...\n",
       "495      100          0.25     21.088424\n",
       "496      100          0.26     21.085087\n",
       "497      100          0.25     21.092524\n",
       "498      100          0.25     21.095177\n",
       "499      100          0.25     21.103890\n",
       "\n",
       "[500 rows x 3 columns]"
      ]
     },
     "execution_count": 15,
     "metadata": {},
     "output_type": "execute_result"
    }
   ],
   "source": [
    "df = pd.read_pickle(r\"\\requests_dataframe.pkl\") #dataframe instanciado a partir dos arquivos exportados\n",
    "df"
   ]
  },
  {
   "cell_type": "markdown",
   "metadata": {},
   "source": [
    "**Agrupando os dados por quantidade de requisições simultâneas, e aplicando a média entre eles:**"
   ]
  },
  {
   "cell_type": "code",
   "execution_count": 16,
   "metadata": {},
   "outputs": [
    {
     "data": {
      "text/html": [
       "<div>\n",
       "<style scoped>\n",
       "    .dataframe tbody tr th:only-of-type {\n",
       "        vertical-align: middle;\n",
       "    }\n",
       "\n",
       "    .dataframe tbody tr th {\n",
       "        vertical-align: top;\n",
       "    }\n",
       "\n",
       "    .dataframe thead th {\n",
       "        text-align: right;\n",
       "    }\n",
       "</style>\n",
       "<table border=\"1\" class=\"dataframe\">\n",
       "  <thead>\n",
       "    <tr style=\"text-align: right;\">\n",
       "      <th></th>\n",
       "      <th>taxa_sucesso</th>\n",
       "      <th>tempo_decorr</th>\n",
       "    </tr>\n",
       "    <tr>\n",
       "      <th>sim_reqs</th>\n",
       "      <th></th>\n",
       "      <th></th>\n",
       "    </tr>\n",
       "  </thead>\n",
       "  <tbody>\n",
       "    <tr>\n",
       "      <th>1</th>\n",
       "      <td>1.000000</td>\n",
       "      <td>0.203042</td>\n",
       "    </tr>\n",
       "    <tr>\n",
       "      <th>2</th>\n",
       "      <td>1.000000</td>\n",
       "      <td>0.312658</td>\n",
       "    </tr>\n",
       "    <tr>\n",
       "      <th>3</th>\n",
       "      <td>1.000000</td>\n",
       "      <td>0.463166</td>\n",
       "    </tr>\n",
       "    <tr>\n",
       "      <th>4</th>\n",
       "      <td>1.000000</td>\n",
       "      <td>0.714459</td>\n",
       "    </tr>\n",
       "    <tr>\n",
       "      <th>5</th>\n",
       "      <td>1.000000</td>\n",
       "      <td>0.735868</td>\n",
       "    </tr>\n",
       "    <tr>\n",
       "      <th>...</th>\n",
       "      <td>...</td>\n",
       "      <td>...</td>\n",
       "    </tr>\n",
       "    <tr>\n",
       "      <th>96</th>\n",
       "      <td>0.266667</td>\n",
       "      <td>21.107518</td>\n",
       "    </tr>\n",
       "    <tr>\n",
       "      <th>97</th>\n",
       "      <td>0.259794</td>\n",
       "      <td>21.095862</td>\n",
       "    </tr>\n",
       "    <tr>\n",
       "      <th>98</th>\n",
       "      <td>0.257143</td>\n",
       "      <td>21.109170</td>\n",
       "    </tr>\n",
       "    <tr>\n",
       "      <th>99</th>\n",
       "      <td>0.250505</td>\n",
       "      <td>21.108610</td>\n",
       "    </tr>\n",
       "    <tr>\n",
       "      <th>100</th>\n",
       "      <td>0.252000</td>\n",
       "      <td>21.093020</td>\n",
       "    </tr>\n",
       "  </tbody>\n",
       "</table>\n",
       "<p>100 rows × 2 columns</p>\n",
       "</div>"
      ],
      "text/plain": [
       "          taxa_sucesso  tempo_decorr\n",
       "sim_reqs                            \n",
       "1             1.000000      0.203042\n",
       "2             1.000000      0.312658\n",
       "3             1.000000      0.463166\n",
       "4             1.000000      0.714459\n",
       "5             1.000000      0.735868\n",
       "...                ...           ...\n",
       "96            0.266667     21.107518\n",
       "97            0.259794     21.095862\n",
       "98            0.257143     21.109170\n",
       "99            0.250505     21.108610\n",
       "100           0.252000     21.093020\n",
       "\n",
       "[100 rows x 2 columns]"
      ]
     },
     "execution_count": 16,
     "metadata": {},
     "output_type": "execute_result"
    }
   ],
   "source": [
    "df2 = df.groupby(\"sim_reqs\").mean()\n",
    "df2"
   ]
  },
  {
   "cell_type": "markdown",
   "metadata": {},
   "source": [
    "**A evolução do tempo de decorrido em função do número de requisições simultâneas fica:**"
   ]
  },
  {
   "cell_type": "code",
   "execution_count": 29,
   "metadata": {},
   "outputs": [
    {
     "data": {
      "text/plain": [
       "[<matplotlib.lines.Line2D at 0x1e4212aaf88>]"
      ]
     },
     "execution_count": 29,
     "metadata": {},
     "output_type": "execute_result"
    },
    {
     "data": {
      "image/png": "[encoded data removed]",
      "text/plain": [
       "<Figure size 864x576 with 1 Axes>"
      ]
     },
     "metadata": {
      "needs_background": "light"
     },
     "output_type": "display_data"
    }
   ],
   "source": [
    "plt.figure(figsize=(12,8))\n",
    "plt.ylabel('Tempo (s)')\n",
    "plt.xlabel('Requisições simultâneas')\n",
    "plt.plot(df2[\"tempo_decorr\"],'r')"
   ]
  },
  {
   "cell_type": "markdown",
   "metadata": {},
   "source": [
    "**O platô pode ser explicado pela taxa de sucesso decair a partir de 26 requisições simultâneas:**"
   ]
  },
  {
   "cell_type": "code",
   "execution_count": 31,
   "metadata": {},
   "outputs": [
    {
     "data": {
      "text/plain": [
       "sim_reqs\n",
       "21    1.000000\n",
       "22    1.000000\n",
       "23    1.000000\n",
       "24    1.000000\n",
       "25    1.000000\n",
       "26    0.969231\n",
       "27    0.896296\n",
       "28    0.892857\n",
       "29    0.882759\n",
       "30    0.786667\n",
       "Name: taxa_sucesso, dtype: float64"
      ]
     },
     "execution_count": 31,
     "metadata": {},
     "output_type": "execute_result"
    }
   ],
   "source": [
    "df2[\"taxa_sucesso\"][20:30]"
   ]
  },
  {
   "cell_type": "markdown",
   "metadata": {},
   "source": [
    "**O que significa que o servidor são está lidando com tantas requisições simultâneas, e algumas respostas não estão sendo enviadas ao cliente:**"
   ]
  },
  {
   "cell_type": "code",
   "execution_count": 42,
   "metadata": {},
   "outputs": [
    {
     "data": {
      "text/plain": [
       "[<matplotlib.lines.Line2D at 0x1e42316c548>]"
      ]
     },
     "execution_count": 42,
     "metadata": {},
     "output_type": "execute_result"
    },
    {
     "data": {
      "image/png": "[encoded data removed]",
      "text/plain": [
       "<Figure size 864x576 with 1 Axes>"
      ]
     },
     "metadata": {
      "needs_background": "light"
     },
     "output_type": "display_data"
    }
   ],
   "source": [
    "plt.figure(figsize=(12,8))\n",
    "plt.ylabel('Taxa de sucesso')\n",
    "plt.xlabel('Requisições simultâneas')\n",
    "plt.plot(df2[\"taxa_sucesso\"],'bo')"
   ]
  },
  {
   "cell_type": "markdown",
   "metadata": {},
   "source": [
    "**O arquivo *ws_pcap.csv* contem uma tabela de valores exportados coletados pelo wireshark do conjunto de conversas entre cliente e servidor, filtradas para o protocolo HTTP. Estão ordenadas com relação aos pedidos e respostas relacioados, e ao longo do tempo. Estes dados podem ser lidos como:**"
   ]
  },
  {
   "cell_type": "code",
   "execution_count": 43,
   "metadata": {},
   "outputs": [
    {
     "data": {
      "text/html": [
       "<div>\n",
       "<style scoped>\n",
       "    .dataframe tbody tr th:only-of-type {\n",
       "        vertical-align: middle;\n",
       "    }\n",
       "\n",
       "    .dataframe tbody tr th {\n",
       "        vertical-align: top;\n",
       "    }\n",
       "\n",
       "    .dataframe thead th {\n",
       "        text-align: right;\n",
       "    }\n",
       "</style>\n",
       "<table border=\"1\" class=\"dataframe\">\n",
       "  <thead>\n",
       "    <tr style=\"text-align: right;\">\n",
       "      <th></th>\n",
       "      <th>No.</th>\n",
       "      <th>Time</th>\n",
       "      <th>Source</th>\n",
       "      <th>Destination</th>\n",
       "      <th>Protocol</th>\n",
       "      <th>Length</th>\n",
       "      <th>Info</th>\n",
       "      <th>Resp</th>\n",
       "    </tr>\n",
       "  </thead>\n",
       "  <tbody>\n",
       "    <tr>\n",
       "      <th>0</th>\n",
       "      <td>108</td>\n",
       "      <td>8.992943</td>\n",
       "      <td>192.168.100.72</td>\n",
       "      <td>192.168.100.70</td>\n",
       "      <td>HTTP</td>\n",
       "      <td>185</td>\n",
       "      <td>GET /33 HTTP/1.1</td>\n",
       "      <td>GET</td>\n",
       "    </tr>\n",
       "    <tr>\n",
       "      <th>1</th>\n",
       "      <td>136</td>\n",
       "      <td>9.298871</td>\n",
       "      <td>192.168.100.70</td>\n",
       "      <td>192.168.100.72</td>\n",
       "      <td>HTTP</td>\n",
       "      <td>584</td>\n",
       "      <td>HTTP/1.1 200 OK  (text/html)</td>\n",
       "      <td>HTTP</td>\n",
       "    </tr>\n",
       "    <tr>\n",
       "      <th>2</th>\n",
       "      <td>142</td>\n",
       "      <td>9.309762</td>\n",
       "      <td>192.168.100.72</td>\n",
       "      <td>192.168.100.70</td>\n",
       "      <td>HTTP</td>\n",
       "      <td>185</td>\n",
       "      <td>GET /42 HTTP/1.1</td>\n",
       "      <td>GET</td>\n",
       "    </tr>\n",
       "    <tr>\n",
       "      <th>3</th>\n",
       "      <td>159</td>\n",
       "      <td>9.425519</td>\n",
       "      <td>192.168.100.70</td>\n",
       "      <td>192.168.100.72</td>\n",
       "      <td>HTTP</td>\n",
       "      <td>584</td>\n",
       "      <td>HTTP/1.1 200 OK  (text/html)</td>\n",
       "      <td>HTTP</td>\n",
       "    </tr>\n",
       "    <tr>\n",
       "      <th>4</th>\n",
       "      <td>165</td>\n",
       "      <td>9.438645</td>\n",
       "      <td>192.168.100.72</td>\n",
       "      <td>192.168.100.70</td>\n",
       "      <td>HTTP</td>\n",
       "      <td>185</td>\n",
       "      <td>GET /68 HTTP/1.1</td>\n",
       "      <td>GET</td>\n",
       "    </tr>\n",
       "  </tbody>\n",
       "</table>\n",
       "</div>"
      ],
      "text/plain": [
       "   No.      Time          Source     Destination Protocol  Length  \\\n",
       "0  108  8.992943  192.168.100.72  192.168.100.70     HTTP     185   \n",
       "1  136  9.298871  192.168.100.70  192.168.100.72     HTTP     584   \n",
       "2  142  9.309762  192.168.100.72  192.168.100.70     HTTP     185   \n",
       "3  159  9.425519  192.168.100.70  192.168.100.72     HTTP     584   \n",
       "4  165  9.438645  192.168.100.72  192.168.100.70     HTTP     185   \n",
       "\n",
       "                           Info  Resp  \n",
       "0             GET /33 HTTP/1.1   GET   \n",
       "1  HTTP/1.1 200 OK  (text/html)  HTTP  \n",
       "2             GET /42 HTTP/1.1   GET   \n",
       "3  HTTP/1.1 200 OK  (text/html)  HTTP  \n",
       "4             GET /68 HTTP/1.1   GET   "
      ]
     },
     "execution_count": 43,
     "metadata": {},
     "output_type": "execute_result"
    }
   ],
   "source": [
    "pcap = pd.read_csv(r\"\\ws_pcap.csv\")\n",
    "pcap['Resp'] = list(map(lambda el: el[:4], pcap['Info'])) #insere uma coluna \"Resp\" apenas com o nome do método para facilitar a análise\n",
    "pcap.head()"
   ]
  },
  {
   "cell_type": "markdown",
   "metadata": {},
   "source": [
    "**O intervalo de tempo entre requisições e respostas consecutivas pode ter sua evolução observada no seguinte gráfico:**"
   ]
  },
  {
   "cell_type": "code",
   "execution_count": 8,
   "metadata": {},
   "outputs": [],
   "source": [
    "#mapeia as posições onde estão os GET e 200OK e cria uma lista com os intervalos de tempo entre eles\n",
    "\n",
    "lista_resp = Lista(pcap['Resp'])\n",
    "\n",
    "listg = lista_resp.pos('GET ')\n",
    "listh = lista_resp.pos('HTTP')\n",
    "listg = listg[:len(listh)]\n",
    "\n",
    "tg = np.array(list (map(lambda t: pcap['Time'][t], listg)))\n",
    "th = np.array(list (map(lambda t: pcap['Time'][t], listh)))\n",
    "\n",
    "difs = []\n",
    "for i in range(len(tg)):\n",
    "    difs.append(th[i]-tg[i])"
   ]
  },
  {
   "cell_type": "code",
   "execution_count": 45,
   "metadata": {},
   "outputs": [
    {
     "data": {
      "text/plain": [
       "[<matplotlib.lines.Line2D at 0x1e42273c9c8>]"
      ]
     },
     "execution_count": 45,
     "metadata": {},
     "output_type": "execute_result"
    },
    {
     "data": {
      "image/png": "[encoded data removed]",
      "text/plain": [
       "<Figure size 864x576 with 1 Axes>"
      ]
     },
     "metadata": {
      "needs_background": "light"
     },
     "output_type": "display_data"
    }
   ],
   "source": [
    "plt.figure(figsize=(12,8))\n",
    "plt.ylabel('Tempo de resposta (s)')\n",
    "plt.xlabel('Número da conversa')\n",
    "plt.plot(difs)"
   ]
  },
  {
   "cell_type": "markdown",
   "metadata": {},
   "source": [
    "**Sendo que, naturalmente, o número de requisições simultâneas cresce ao longo do número que ordena a conversa ao longo tempo. Representando uma linha de média móvel para cada 100 conversas, de modo a suavizar a curva, pode-se verificar melhor como o tempo de resposta almenta quando o número de requisições simultâneas também aumenta:**"
   ]
  },
  {
   "cell_type": "code",
   "execution_count": 47,
   "metadata": {},
   "outputs": [
    {
     "data": {
      "text/plain": [
       "[<matplotlib.lines.Line2D at 0x1e4244bbd48>]"
      ]
     },
     "execution_count": 47,
     "metadata": {},
     "output_type": "execute_result"
    },
    {
     "data": {
      "image/png": "[encoded data removed]",
      "text/plain": [
       "<Figure size 864x576 with 1 Axes>"
      ]
     },
     "metadata": {
      "needs_background": "light"
     },
     "output_type": "display_data"
    }
   ],
   "source": [
    "plt.figure(figsize=(12,8))\n",
    "plt.ylabel('Tempo de resposta (s)')\n",
    "plt.xlabel('Número da conversa')\n",
    "plt.plot(difs)\n",
    "plt.plot(Lista(difs).media_movel(100),'r')"
   ]
  },
  {
   "cell_type": "markdown",
   "metadata": {},
   "source": [
    " **De fato, pelo sniffing feito pelo WireShark, fica difícil encontrar exatamente quantas requisições simultâneas estão relacionadas a quais número de conversa, mas é evidente que o tempo de resposta aumenta, até um instante tal que as conversas ficam incompletas, há perda de pacotes, o timeout se excede e o enfileiramento excede a capacidade de comunicação com o servior. Porém, foi possível observar que a capacidade de o servidor lidar fica em torno de 25 requisições simulâneas e paralelas.**"
   ]
  },
  {
   "cell_type": "code",
   "execution_count": null,
   "metadata": {},
   "outputs": [],
   "source": []
  }
 ],
 "metadata": {
  "kernelspec": {
   "display_name": "Python 3",
   "language": "python",
   "name": "python3"
  },
  "language_info": {
   "codemirror_mode": {
    "name": "ipython",
    "version": 3
   },
   "file_extension": ".py",
   "mimetype": "text/x-python",
   "name": "python",
   "nbconvert_exporter": "python",
   "pygments_lexer": "ipython3",
   "version": "3.8.8"
  }
 },
 "nbformat": 4,
 "nbformat_minor": 4
}
